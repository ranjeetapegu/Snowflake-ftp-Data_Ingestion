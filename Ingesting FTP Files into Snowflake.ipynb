{
 "cells": [
  {
   "cell_type": "code",
   "execution_count": 2,
   "id": "36529142",
   "metadata": {},
   "outputs": [],
   "source": [
    "## Import the snowflake libraries\n",
    "from snowflake.snowpark.session import Session"
   ]
  },
  {
   "cell_type": "code",
   "execution_count": 3,
   "id": "2726893a",
   "metadata": {},
   "outputs": [],
   "source": [
    "## Connect to your snowflake Account\n",
    "\n",
    "def create_session_object():\n",
    "    connection_paramters = {\n",
    "        \"account\":\"mysnfAccount\",\n",
    "        \"user\":\"rpegu\",\n",
    "        \"password\":\"******\",\n",
    "        \"role\":\"demo_role\",\n",
    "        \"warehouse\":\"demo_wh\",\n",
    "        \"database\":\"snf_exntac\",\n",
    "        \"schema\" :\"api_data\"\n",
    "    }\n",
    "\n",
    "    session = Session.builder.configs(connection_paramters).create()\n",
    "    return session "
   ]
  },
  {
   "cell_type": "code",
   "execution_count": 4,
   "id": "ab591c36",
   "metadata": {},
   "outputs": [],
   "source": [
    "session = create_session_object()"
   ]
  },
  {
   "cell_type": "code",
   "execution_count": 5,
   "id": "33941974",
   "metadata": {},
   "outputs": [
    {
     "data": {
      "text/plain": [
       "[Row(status='Stage area STAGE_FTP successfully created.')]"
      ]
     },
     "execution_count": 5,
     "metadata": {},
     "output_type": "execute_result"
    }
   ],
   "source": [
    "# Create a internal Stage (option step- you can use any existing stage)\n",
    "session.sql(\"create or replace stage stage_ftp\").collect()"
   ]
  },
  {
   "cell_type": "code",
   "execution_count": 8,
   "id": "410a52d3",
   "metadata": {},
   "outputs": [],
   "source": [
    "## Create the python function to read the ftp files\n",
    "import tempfile\n",
    "import os\n",
    "from ftplib import FTP\n",
    "def read_ftp_transfer(Ftp_address,ftp_directory,stage_name,snf_session):\n",
    "    ftp =FTP(Ftp_address)# get the ftp address\n",
    "    #login to ftp \n",
    "    ftp.login()\n",
    "    ftp.cwd(ftp_directory)\n",
    "    filenames = ftp.nlst()\n",
    "    with tempfile.TemporaryDirectory() as td:\n",
    "        count = 0\n",
    "        for filename in filenames:\n",
    "            if filename.endswith('tsv.gz'): # can be any extension like tsv.gz or whatever file you wish get\n",
    "                tmp_file = os.path.join(td,filename)\n",
    "                #print(filename)\n",
    "                #transfering the file into snowflake stage\n",
    "                with open(tmp_file,'wb') as fh:\n",
    "                    ftp.retrbinary('RETR ' + filename, fh.write)\n",
    "                    snf_session.file.put(tmp_file,stage_name)\n",
    "                    count +=1\n",
    "    msg = \"Number of file transfer: \" + str(count)\n",
    "    return(msg)"
   ]
  },
  {
   "cell_type": "code",
   "execution_count": 9,
   "id": "cc293199",
   "metadata": {},
   "outputs": [],
   "source": [
    "ftp_address ='ftp.ebi.ac.uk'\n",
    "ftp_directory = 'pub/databases/gwas/summary_statistics/GCST90000001-GCST90001000/GCST90000014/harmonised'\n",
    "stg_name ='@stage_ftp'\n"
   ]
  },
  {
   "cell_type": "code",
   "execution_count": 10,
   "id": "2beefbaf",
   "metadata": {},
   "outputs": [
    {
     "data": {
      "text/plain": [
       "'Number of file transfer: 2'"
      ]
     },
     "execution_count": 10,
     "metadata": {},
     "output_type": "execute_result"
    }
   ],
   "source": [
    "read_ftp_transfer(ftp_address,ftp_directory,stg_name,session)"
   ]
  },
  {
   "cell_type": "code",
   "execution_count": null,
   "id": "e74dcd76",
   "metadata": {},
   "outputs": [],
   "source": []
  }
 ],
 "metadata": {
  "kernelspec": {
   "display_name": "Python 3 (ipykernel)",
   "language": "python",
   "name": "python3"
  },
  "language_info": {
   "codemirror_mode": {
    "name": "ipython",
    "version": 3
   },
   "file_extension": ".py",
   "mimetype": "text/x-python",
   "name": "python",
   "nbconvert_exporter": "python",
   "pygments_lexer": "ipython3",
   "version": "3.8.13"
  }
 },
 "nbformat": 4,
 "nbformat_minor": 5
}
